{
 "cells": [
  {
   "cell_type": "code",
   "execution_count": 7,
   "metadata": {},
   "outputs": [],
   "source": [
    "import numpy as np\n",
    "import pandas as pd\n",
    "from matplotlib import pyplot as plt\n",
    "import seaborn as sns\n",
    "import re"
   ]
  },
  {
   "cell_type": "code",
   "execution_count": 8,
   "metadata": {},
   "outputs": [],
   "source": [
    "data1 = pd.read_csv('Avandia.csv')"
   ]
  },
  {
   "cell_type": "code",
   "execution_count": 4,
   "metadata": {},
   "outputs": [
    {
     "data": {
      "text/html": [
       "<div>\n",
       "<style scoped>\n",
       "    .dataframe tbody tr th:only-of-type {\n",
       "        vertical-align: middle;\n",
       "    }\n",
       "\n",
       "    .dataframe tbody tr th {\n",
       "        vertical-align: top;\n",
       "    }\n",
       "\n",
       "    .dataframe thead th {\n",
       "        text-align: right;\n",
       "    }\n",
       "</style>\n",
       "<table border=\"1\" class=\"dataframe\">\n",
       "  <thead>\n",
       "    <tr style=\"text-align: right;\">\n",
       "      <th></th>\n",
       "      <th>effectiveness_ratings</th>\n",
       "      <th>consumer</th>\n",
       "      <th>date</th>\n",
       "      <th>usage_ratings</th>\n",
       "      <th>name</th>\n",
       "      <th>gender</th>\n",
       "      <th>age_range</th>\n",
       "      <th>condition</th>\n",
       "      <th>comment</th>\n",
       "      <th>duration</th>\n",
       "      <th>satisfaction_ratings</th>\n",
       "    </tr>\n",
       "  </thead>\n",
       "  <tbody>\n",
       "    <tr>\n",
       "      <th>0</th>\n",
       "      <td>5</td>\n",
       "      <td>Patient</td>\n",
       "      <td>4/30/2010</td>\n",
       "      <td>5</td>\n",
       "      <td>NaN</td>\n",
       "      <td>Female</td>\n",
       "      <td>55-64</td>\n",
       "      <td>\\r\\n\\t\\t\\t\\t\\tCondition: Type 2 Diabetes Mellitus</td>\n",
       "      <td>Avandia caused me to gain 18 lbs. in 4 mos. Wa...</td>\n",
       "      <td>2 to less than 5 years</td>\n",
       "      <td>4</td>\n",
       "    </tr>\n",
       "    <tr>\n",
       "      <th>1</th>\n",
       "      <td>3</td>\n",
       "      <td>Patient</td>\n",
       "      <td>4/24/2010</td>\n",
       "      <td>5</td>\n",
       "      <td>NaN</td>\n",
       "      <td>Female</td>\n",
       "      <td>55-64</td>\n",
       "      <td>\\r\\n\\t\\t\\t\\t\\tCondition: Type 2 Diabetes Mellitus</td>\n",
       "      <td>Avandia caused me to gain 18 lbs. in 4 mos. Wa...</td>\n",
       "      <td>1 to 6 months</td>\n",
       "      <td>1</td>\n",
       "    </tr>\n",
       "    <tr>\n",
       "      <th>2</th>\n",
       "      <td>5</td>\n",
       "      <td>Patient</td>\n",
       "      <td>4/21/2010</td>\n",
       "      <td>5</td>\n",
       "      <td>NaN</td>\n",
       "      <td>Female</td>\n",
       "      <td>65-74</td>\n",
       "      <td>\\r\\n\\t\\t\\t\\t\\tCondition: Type 2 Diabetes Mellitus</td>\n",
       "      <td>NO PROBLEMS FOR 8 YRS., NOW HAVE IRREGULAR PUL...</td>\n",
       "      <td>5 to less than 10 years</td>\n",
       "      <td>5</td>\n",
       "    </tr>\n",
       "    <tr>\n",
       "      <th>3</th>\n",
       "      <td>4</td>\n",
       "      <td>Patient</td>\n",
       "      <td>3/10/2010</td>\n",
       "      <td>5</td>\n",
       "      <td>NaN</td>\n",
       "      <td>Female</td>\n",
       "      <td>45-54</td>\n",
       "      <td>\\r\\n\\t\\t\\t\\t\\tCondition: Type 2 Diabetes Mellitus</td>\n",
       "      <td>NO PROBLEMS FOR 8 YRS., NOW HAVE IRREGULAR PUL...</td>\n",
       "      <td>2 to less than 5 years</td>\n",
       "      <td>5</td>\n",
       "    </tr>\n",
       "    <tr>\n",
       "      <th>4</th>\n",
       "      <td>1</td>\n",
       "      <td>Patient</td>\n",
       "      <td>3/4/2010</td>\n",
       "      <td>1</td>\n",
       "      <td>NaN</td>\n",
       "      <td>Female</td>\n",
       "      <td>55-64</td>\n",
       "      <td>\\r\\n\\t\\t\\t\\t\\tCondition: Type 2 Diabetes Mellitus</td>\n",
       "      <td>This has been the only medication in combinati...</td>\n",
       "      <td>2 to less than 5 years</td>\n",
       "      <td>1</td>\n",
       "    </tr>\n",
       "  </tbody>\n",
       "</table>\n",
       "</div>"
      ],
      "text/plain": [
       "   effectiveness_ratings consumer       date  usage_ratings  name  gender  \\\n",
       "0                      5  Patient  4/30/2010              5   NaN  Female   \n",
       "1                      3  Patient  4/24/2010              5   NaN  Female   \n",
       "2                      5  Patient  4/21/2010              5   NaN  Female   \n",
       "3                      4  Patient  3/10/2010              5   NaN  Female   \n",
       "4                      1  Patient   3/4/2010              1   NaN  Female   \n",
       "\n",
       "  age_range                                          condition  \\\n",
       "0     55-64  \\r\\n\\t\\t\\t\\t\\tCondition: Type 2 Diabetes Mellitus   \n",
       "1     55-64  \\r\\n\\t\\t\\t\\t\\tCondition: Type 2 Diabetes Mellitus   \n",
       "2     65-74  \\r\\n\\t\\t\\t\\t\\tCondition: Type 2 Diabetes Mellitus   \n",
       "3     45-54  \\r\\n\\t\\t\\t\\t\\tCondition: Type 2 Diabetes Mellitus   \n",
       "4     55-64  \\r\\n\\t\\t\\t\\t\\tCondition: Type 2 Diabetes Mellitus   \n",
       "\n",
       "                                             comment                 duration  \\\n",
       "0  Avandia caused me to gain 18 lbs. in 4 mos. Wa...   2 to less than 5 years   \n",
       "1  Avandia caused me to gain 18 lbs. in 4 mos. Wa...            1 to 6 months   \n",
       "2  NO PROBLEMS FOR 8 YRS., NOW HAVE IRREGULAR PUL...  5 to less than 10 years   \n",
       "3  NO PROBLEMS FOR 8 YRS., NOW HAVE IRREGULAR PUL...   2 to less than 5 years   \n",
       "4  This has been the only medication in combinati...   2 to less than 5 years   \n",
       "\n",
       "   satisfaction_ratings  \n",
       "0                     4  \n",
       "1                     1  \n",
       "2                     5  \n",
       "3                     5  \n",
       "4                     1  "
      ]
     },
     "execution_count": 4,
     "metadata": {},
     "output_type": "execute_result"
    }
   ],
   "source": [
    "data1.head()"
   ]
  },
  {
   "cell_type": "code",
   "execution_count": 9,
   "metadata": {},
   "outputs": [],
   "source": [
    "def dur(text):\n",
    "    new_duration = ''.join(re.findall('[0-9]+',text))\n",
    "    if new_duration == '1':\n",
    "        return .1\n",
    "    elif new_duration == '16':\n",
    "        return .3\n",
    "    elif new_duration == '61':\n",
    "        return 0.75\n",
    "    elif new_duration == '12':\n",
    "        return 1.5\n",
    "    elif new_duration == '25':\n",
    "        return 3.5\n",
    "    elif new_duration == '510':\n",
    "        return 7.5\n",
    "    else:\n",
    "        return ''"
   ]
  },
  {
   "cell_type": "code",
   "execution_count": 213,
   "metadata": {},
   "outputs": [
    {
     "data": {
      "text/plain": [
       "0.1"
      ]
     },
     "execution_count": 213,
     "metadata": {},
     "output_type": "execute_result"
    }
   ],
   "source": [
    "dur(' months to less than 1 year')"
   ]
  },
  {
   "cell_type": "code",
   "execution_count": null,
   "metadata": {},
   "outputs": [],
   "source": []
  },
  {
   "cell_type": "code",
   "execution_count": 10,
   "metadata": {},
   "outputs": [],
   "source": [
    "data1['ave_duration'] = [dur(x) for x in data1['duration']]"
   ]
  },
  {
   "cell_type": "code",
   "execution_count": 277,
   "metadata": {
    "scrolled": true
   },
   "outputs": [
    {
     "data": {
      "text/html": [
       "<div>\n",
       "<style scoped>\n",
       "    .dataframe tbody tr th:only-of-type {\n",
       "        vertical-align: middle;\n",
       "    }\n",
       "\n",
       "    .dataframe tbody tr th {\n",
       "        vertical-align: top;\n",
       "    }\n",
       "\n",
       "    .dataframe thead th {\n",
       "        text-align: right;\n",
       "    }\n",
       "</style>\n",
       "<table border=\"1\" class=\"dataframe\">\n",
       "  <thead>\n",
       "    <tr style=\"text-align: right;\">\n",
       "      <th></th>\n",
       "      <th>date</th>\n",
       "      <th>age_range</th>\n",
       "      <th>gender</th>\n",
       "      <th>condition</th>\n",
       "      <th>consumer</th>\n",
       "      <th>duration</th>\n",
       "      <th>average_duration</th>\n",
       "      <th>usage_ratings</th>\n",
       "      <th>satisfaction_ratings</th>\n",
       "      <th>effectiveness_ratings</th>\n",
       "      <th>comment</th>\n",
       "      <th>ave_duration</th>\n",
       "    </tr>\n",
       "  </thead>\n",
       "  <tbody>\n",
       "    <tr>\n",
       "      <th>0</th>\n",
       "      <td>4/30/2010</td>\n",
       "      <td>55-64</td>\n",
       "      <td>Female</td>\n",
       "      <td>Type 2 Diabetes Mellitus</td>\n",
       "      <td>Patient</td>\n",
       "      <td>2 to less than 5 years</td>\n",
       "      <td>3.5</td>\n",
       "      <td>5</td>\n",
       "      <td>4</td>\n",
       "      <td>5</td>\n",
       "      <td>Avandia caused me to gain 18 lbs. in 4 mos. Wa...</td>\n",
       "      <td>3.5</td>\n",
       "    </tr>\n",
       "    <tr>\n",
       "      <th>1</th>\n",
       "      <td>4/24/2010</td>\n",
       "      <td>55-64</td>\n",
       "      <td>Female</td>\n",
       "      <td>Type 2 Diabetes Mellitus</td>\n",
       "      <td>Patient</td>\n",
       "      <td>1 to 6 months</td>\n",
       "      <td>0.3</td>\n",
       "      <td>5</td>\n",
       "      <td>1</td>\n",
       "      <td>3</td>\n",
       "      <td>Avandia caused me to gain 18 lbs. in 4 mos. Wa...</td>\n",
       "      <td>0.3</td>\n",
       "    </tr>\n",
       "    <tr>\n",
       "      <th>2</th>\n",
       "      <td>4/21/2010</td>\n",
       "      <td>65-74</td>\n",
       "      <td>Female</td>\n",
       "      <td>Type 2 Diabetes Mellitus</td>\n",
       "      <td>Patient</td>\n",
       "      <td>5 to less than 10 years</td>\n",
       "      <td>7.5</td>\n",
       "      <td>5</td>\n",
       "      <td>5</td>\n",
       "      <td>5</td>\n",
       "      <td>NO PROBLEMS FOR 8 YRS., NOW HAVE IRREGULAR PUL...</td>\n",
       "      <td>7.5</td>\n",
       "    </tr>\n",
       "    <tr>\n",
       "      <th>3</th>\n",
       "      <td>3/10/2010</td>\n",
       "      <td>45-54</td>\n",
       "      <td>Female</td>\n",
       "      <td>Type 2 Diabetes Mellitus</td>\n",
       "      <td>Patient</td>\n",
       "      <td>2 to less than 5 years</td>\n",
       "      <td>3.5</td>\n",
       "      <td>5</td>\n",
       "      <td>5</td>\n",
       "      <td>4</td>\n",
       "      <td>NO PROBLEMS FOR 8 YRS., NOW HAVE IRREGULAR PUL...</td>\n",
       "      <td>3.5</td>\n",
       "    </tr>\n",
       "    <tr>\n",
       "      <th>4</th>\n",
       "      <td>3/4/2010</td>\n",
       "      <td>55-64</td>\n",
       "      <td>Female</td>\n",
       "      <td>Type 2 Diabetes Mellitus</td>\n",
       "      <td>Patient</td>\n",
       "      <td>2 to less than 5 years</td>\n",
       "      <td>3.5</td>\n",
       "      <td>1</td>\n",
       "      <td>1</td>\n",
       "      <td>1</td>\n",
       "      <td>This has been the only medication in combinati...</td>\n",
       "      <td>3.5</td>\n",
       "    </tr>\n",
       "  </tbody>\n",
       "</table>\n",
       "</div>"
      ],
      "text/plain": [
       "        date age_range  gender                 condition consumer  \\\n",
       "0  4/30/2010     55-64  Female  Type 2 Diabetes Mellitus  Patient   \n",
       "1  4/24/2010     55-64  Female  Type 2 Diabetes Mellitus  Patient   \n",
       "2  4/21/2010     65-74  Female  Type 2 Diabetes Mellitus  Patient   \n",
       "3  3/10/2010     45-54  Female  Type 2 Diabetes Mellitus  Patient   \n",
       "4   3/4/2010     55-64  Female  Type 2 Diabetes Mellitus  Patient   \n",
       "\n",
       "                  duration average_duration  usage_ratings  \\\n",
       "0   2 to less than 5 years              3.5              5   \n",
       "1            1 to 6 months              0.3              5   \n",
       "2  5 to less than 10 years              7.5              5   \n",
       "3   2 to less than 5 years              3.5              5   \n",
       "4   2 to less than 5 years              3.5              1   \n",
       "\n",
       "   satisfaction_ratings  effectiveness_ratings  \\\n",
       "0                     4                      5   \n",
       "1                     1                      3   \n",
       "2                     5                      5   \n",
       "3                     5                      4   \n",
       "4                     1                      1   \n",
       "\n",
       "                                             comment ave_duration  \n",
       "0  Avandia caused me to gain 18 lbs. in 4 mos. Wa...          3.5  \n",
       "1  Avandia caused me to gain 18 lbs. in 4 mos. Wa...          0.3  \n",
       "2  NO PROBLEMS FOR 8 YRS., NOW HAVE IRREGULAR PUL...          7.5  \n",
       "3  NO PROBLEMS FOR 8 YRS., NOW HAVE IRREGULAR PUL...          3.5  \n",
       "4  This has been the only medication in combinati...          3.5  "
      ]
     },
     "execution_count": 277,
     "metadata": {},
     "output_type": "execute_result"
    }
   ],
   "source": [
    "data1.head()"
   ]
  },
  {
   "cell_type": "code",
   "execution_count": 11,
   "metadata": {},
   "outputs": [],
   "source": [
    "data1['condition'] = data1['condition'].apply(lambda x: str(x)[-24:])"
   ]
  },
  {
   "cell_type": "code",
   "execution_count": 279,
   "metadata": {},
   "outputs": [
    {
     "data": {
      "text/plain": [
       "float"
      ]
     },
     "execution_count": 279,
     "metadata": {},
     "output_type": "execute_result"
    }
   ],
   "source": [
    "type(data1['ave_duration'][0])"
   ]
  },
  {
   "cell_type": "code",
   "execution_count": 198,
   "metadata": {},
   "outputs": [
    {
     "data": {
      "text/plain": [
       "7.0"
      ]
     },
     "execution_count": 198,
     "metadata": {},
     "output_type": "execute_result"
    }
   ],
   "source": [
    "data1['adjusted_duration'][0] * 2"
   ]
  },
  {
   "cell_type": "code",
   "execution_count": 224,
   "metadata": {},
   "outputs": [
    {
     "name": "stderr",
     "output_type": "stream",
     "text": [
      "/Users/oluwolealowolodu/anaconda3/lib/python3.5/site-packages/ipykernel_launcher.py:1: FutureWarning: specifying 'categories' or 'ordered' in .astype() is deprecated; pass a CategoricalDtype instead\n",
      "  \"\"\"Entry point for launching an IPython kernel.\n"
     ]
    },
    {
     "data": {
      "text/plain": [
       "0     55-64\n",
       "1     55-64\n",
       "2     65-74\n",
       "3     45-54\n",
       "4     55-64\n",
       "5     55-64\n",
       "6     45-54\n",
       "7     25-34\n",
       "8     55-64\n",
       "9     55-64\n",
       "10    55-64\n",
       "11    65-74\n",
       "12    35-44\n",
       "13    55-64\n",
       "14    45-54\n",
       "15    65-74\n",
       "16    65-74\n",
       "17    65-74\n",
       "18    65-74\n",
       "19    65-74\n",
       "20    65-74\n",
       "21    55-64\n",
       "22    55-64\n",
       "23      NaN\n",
       "24    55-64\n",
       "25    65-74\n",
       "26    55-64\n",
       "27    45-54\n",
       "28      NaN\n",
       "29    35-44\n",
       "      ...  \n",
       "63    45-54\n",
       "64    55-64\n",
       "65    55-64\n",
       "66    65-74\n",
       "67    45-54\n",
       "68    45-54\n",
       "69    55-64\n",
       "70    45-54\n",
       "71    55-64\n",
       "72    55-64\n",
       "73    55-64\n",
       "74    55-64\n",
       "75    55-64\n",
       "76    65-74\n",
       "77      NaN\n",
       "78    65-74\n",
       "79    55-64\n",
       "80    65-74\n",
       "81    55-64\n",
       "82    65-74\n",
       "83    55-64\n",
       "84    25-34\n",
       "85    55-64\n",
       "86    35-44\n",
       "87    35-44\n",
       "88    55-64\n",
       "89    55-64\n",
       "90    65-74\n",
       "91    55-64\n",
       "92    65-74\n",
       "Name: age_range, Length: 93, dtype: category\n",
       "Categories (8, object): [5-14 < 15-24 < 25-34 < 35-44 < 45-54 < 55-64 < 65-74 < 75-84]"
      ]
     },
     "execution_count": 224,
     "metadata": {},
     "output_type": "execute_result"
    }
   ],
   "source": [
    "data1['age_range'].astype('category', categories=['5-14','15-24','25-34','35-44','45-54','55-64','65-74','75-84'], ordered=True)\n"
   ]
  },
  {
   "cell_type": "code",
   "execution_count": 12,
   "metadata": {},
   "outputs": [
    {
     "name": "stderr",
     "output_type": "stream",
     "text": [
      "/Users/oluwolealowolodu/anaconda3/lib/python3.6/site-packages/IPython/core/interactiveshell.py:3267: FutureWarning: specifying 'categories' or 'ordered' in .astype() is deprecated; pass a CategoricalDtype instead\n",
      "  exec(code_obj, self.user_global_ns, self.user_ns)\n"
     ]
    }
   ],
   "source": [
    "data1['average_duration']=data1['ave_duration'].astype('category', categories=[0.1,0.3,0.75,1.5,3.5,7.5], ordered=True)\n"
   ]
  },
  {
   "cell_type": "code",
   "execution_count": 220,
   "metadata": {},
   "outputs": [
    {
     "data": {
      "text/html": [
       "<div>\n",
       "<style scoped>\n",
       "    .dataframe tbody tr th:only-of-type {\n",
       "        vertical-align: middle;\n",
       "    }\n",
       "\n",
       "    .dataframe tbody tr th {\n",
       "        vertical-align: top;\n",
       "    }\n",
       "\n",
       "    .dataframe thead th {\n",
       "        text-align: right;\n",
       "    }\n",
       "</style>\n",
       "<table border=\"1\" class=\"dataframe\">\n",
       "  <thead>\n",
       "    <tr style=\"text-align: right;\">\n",
       "      <th></th>\n",
       "      <th>effectiveness_ratings</th>\n",
       "      <th>consumer</th>\n",
       "      <th>date</th>\n",
       "      <th>usage_ratings</th>\n",
       "      <th>name</th>\n",
       "      <th>gender</th>\n",
       "      <th>age_range</th>\n",
       "      <th>condition</th>\n",
       "      <th>comment</th>\n",
       "      <th>duration</th>\n",
       "      <th>satisfaction_ratings</th>\n",
       "      <th>adjusted_duration</th>\n",
       "    </tr>\n",
       "  </thead>\n",
       "  <tbody>\n",
       "    <tr>\n",
       "      <th>47</th>\n",
       "      <td>4</td>\n",
       "      <td>Patient</td>\n",
       "      <td>1/13/2008</td>\n",
       "      <td>5</td>\n",
       "      <td>NaN</td>\n",
       "      <td>Male</td>\n",
       "      <td>65-74</td>\n",
       "      <td>Type 2 Diabetes Mellitus</td>\n",
       "      <td>4 mg Avandia used once per day with Glipizide ...</td>\n",
       "      <td>2 to less than 5 years</td>\n",
       "      <td>5</td>\n",
       "      <td>3.5</td>\n",
       "    </tr>\n",
       "  </tbody>\n",
       "</table>\n",
       "</div>"
      ],
      "text/plain": [
       "    effectiveness_ratings consumer       date  usage_ratings  name gender  \\\n",
       "47                      4  Patient  1/13/2008              5   NaN   Male   \n",
       "\n",
       "   age_range                 condition  \\\n",
       "47     65-74  Type 2 Diabetes Mellitus   \n",
       "\n",
       "                                              comment                duration  \\\n",
       "47  4 mg Avandia used once per day with Glipizide ...  2 to less than 5 years   \n",
       "\n",
       "    satisfaction_ratings adjusted_duration  \n",
       "47                     5               3.5  "
      ]
     },
     "execution_count": 220,
     "metadata": {},
     "output_type": "execute_result"
    }
   ],
   "source": [
    "data1.sample()"
   ]
  },
  {
   "cell_type": "code",
   "execution_count": 13,
   "metadata": {},
   "outputs": [
    {
     "data": {
      "image/png": "[encoded data removed]",
      "text/plain": [
       "<Figure size 360x360 with 1 Axes>"
      ]
     },
     "metadata": {
      "needs_background": "light"
     },
     "output_type": "display_data"
    }
   ],
   "source": [
    "av = sns.catplot(x=\"satisfaction_ratings\", kind=\"count\", data=data1)"
   ]
  },
  {
   "cell_type": "code",
   "execution_count": 14,
   "metadata": {},
   "outputs": [
    {
     "data": {
      "text/plain": [
       "<seaborn.axisgrid.FacetGrid at 0x1a22173f60>"
      ]
     },
     "execution_count": 14,
     "metadata": {},
     "output_type": "execute_result"
    },
    {
     "data": {
      "image/png": "[encoded data removed]",
      "text/plain": [
       "<Figure size 360x360 with 1 Axes>"
      ]
     },
     "metadata": {
      "needs_background": "light"
     },
     "output_type": "display_data"
    }
   ],
   "source": [
    "sns.catplot(x=\"effectiveness_ratings\", kind=\"count\", data=data1)\n"
   ]
  },
  {
   "cell_type": "markdown",
   "metadata": {},
   "source": []
  },
  {
   "cell_type": "code",
   "execution_count": 15,
   "metadata": {},
   "outputs": [
    {
     "data": {
      "text/plain": [
       "<matplotlib.axes._subplots.AxesSubplot at 0x1a226ac278>"
      ]
     },
     "execution_count": 15,
     "metadata": {},
     "output_type": "execute_result"
    },
    {
     "data": {
      "image/png": "[encoded data removed]",
      "text/plain": [
       "<Figure size 1584x1440 with 1 Axes>"
      ]
     },
     "metadata": {
      "needs_background": "light"
     },
     "output_type": "display_data"
    }
   ],
   "source": [
    "df11 = data1[['satisfaction_ratings', 'effectiveness_ratings']]\n",
    "df11_melt = df11.melt().groupby([\"variable\",\"value\"]).agg({\n",
    "    \"value\":\"count\"\n",
    "}).rename(columns={\"value\":\"count\"}).reset_index()\n",
    "\n",
    "df11.groupby(\n",
    "    ['satisfaction_ratings', 'effectiveness_ratings']\n",
    ").agg({\"effectiveness_ratings\":\"count\"}).plot.bar(figsize=(22,20))\n",
    "\n",
    "sns.barplot(x=\"value\", y=\"count\", hue=\"variable\", data=df11_melt)"
   ]
  },
  {
   "cell_type": "code",
   "execution_count": 241,
   "metadata": {},
   "outputs": [],
   "source": [
    "data1 = data1[['date', 'age_range', 'gender', 'condition', 'consumer', 'duration', 'average_duration', 'usage_ratings', 'satisfaction_ratings', 'effectiveness_ratings', 'comment']]"
   ]
  },
  {
   "cell_type": "code",
   "execution_count": 242,
   "metadata": {},
   "outputs": [
    {
     "data": {
      "text/html": [
       "<div>\n",
       "<style scoped>\n",
       "    .dataframe tbody tr th:only-of-type {\n",
       "        vertical-align: middle;\n",
       "    }\n",
       "\n",
       "    .dataframe tbody tr th {\n",
       "        vertical-align: top;\n",
       "    }\n",
       "\n",
       "    .dataframe thead th {\n",
       "        text-align: right;\n",
       "    }\n",
       "</style>\n",
       "<table border=\"1\" class=\"dataframe\">\n",
       "  <thead>\n",
       "    <tr style=\"text-align: right;\">\n",
       "      <th></th>\n",
       "      <th>date</th>\n",
       "      <th>age_range</th>\n",
       "      <th>gender</th>\n",
       "      <th>condition</th>\n",
       "      <th>consumer</th>\n",
       "      <th>duration</th>\n",
       "      <th>average_duration</th>\n",
       "      <th>usage_ratings</th>\n",
       "      <th>satisfaction_ratings</th>\n",
       "      <th>effectiveness_ratings</th>\n",
       "      <th>comment</th>\n",
       "    </tr>\n",
       "  </thead>\n",
       "  <tbody>\n",
       "    <tr>\n",
       "      <th>0</th>\n",
       "      <td>4/30/2010</td>\n",
       "      <td>55-64</td>\n",
       "      <td>Female</td>\n",
       "      <td>Type 2 Diabetes Mellitus</td>\n",
       "      <td>Patient</td>\n",
       "      <td>2 to less than 5 years</td>\n",
       "      <td>3.5</td>\n",
       "      <td>5</td>\n",
       "      <td>4</td>\n",
       "      <td>5</td>\n",
       "      <td>Avandia caused me to gain 18 lbs. in 4 mos. Wa...</td>\n",
       "    </tr>\n",
       "    <tr>\n",
       "      <th>1</th>\n",
       "      <td>4/24/2010</td>\n",
       "      <td>55-64</td>\n",
       "      <td>Female</td>\n",
       "      <td>Type 2 Diabetes Mellitus</td>\n",
       "      <td>Patient</td>\n",
       "      <td>1 to 6 months</td>\n",
       "      <td>0.3</td>\n",
       "      <td>5</td>\n",
       "      <td>1</td>\n",
       "      <td>3</td>\n",
       "      <td>Avandia caused me to gain 18 lbs. in 4 mos. Wa...</td>\n",
       "    </tr>\n",
       "    <tr>\n",
       "      <th>2</th>\n",
       "      <td>4/21/2010</td>\n",
       "      <td>65-74</td>\n",
       "      <td>Female</td>\n",
       "      <td>Type 2 Diabetes Mellitus</td>\n",
       "      <td>Patient</td>\n",
       "      <td>5 to less than 10 years</td>\n",
       "      <td>7.5</td>\n",
       "      <td>5</td>\n",
       "      <td>5</td>\n",
       "      <td>5</td>\n",
       "      <td>NO PROBLEMS FOR 8 YRS., NOW HAVE IRREGULAR PUL...</td>\n",
       "    </tr>\n",
       "    <tr>\n",
       "      <th>3</th>\n",
       "      <td>3/10/2010</td>\n",
       "      <td>45-54</td>\n",
       "      <td>Female</td>\n",
       "      <td>Type 2 Diabetes Mellitus</td>\n",
       "      <td>Patient</td>\n",
       "      <td>2 to less than 5 years</td>\n",
       "      <td>3.5</td>\n",
       "      <td>5</td>\n",
       "      <td>5</td>\n",
       "      <td>4</td>\n",
       "      <td>NO PROBLEMS FOR 8 YRS., NOW HAVE IRREGULAR PUL...</td>\n",
       "    </tr>\n",
       "    <tr>\n",
       "      <th>4</th>\n",
       "      <td>3/4/2010</td>\n",
       "      <td>55-64</td>\n",
       "      <td>Female</td>\n",
       "      <td>Type 2 Diabetes Mellitus</td>\n",
       "      <td>Patient</td>\n",
       "      <td>2 to less than 5 years</td>\n",
       "      <td>3.5</td>\n",
       "      <td>1</td>\n",
       "      <td>1</td>\n",
       "      <td>1</td>\n",
       "      <td>This has been the only medication in combinati...</td>\n",
       "    </tr>\n",
       "  </tbody>\n",
       "</table>\n",
       "</div>"
      ],
      "text/plain": [
       "        date age_range  gender                 condition consumer  \\\n",
       "0  4/30/2010     55-64  Female  Type 2 Diabetes Mellitus  Patient   \n",
       "1  4/24/2010     55-64  Female  Type 2 Diabetes Mellitus  Patient   \n",
       "2  4/21/2010     65-74  Female  Type 2 Diabetes Mellitus  Patient   \n",
       "3  3/10/2010     45-54  Female  Type 2 Diabetes Mellitus  Patient   \n",
       "4   3/4/2010     55-64  Female  Type 2 Diabetes Mellitus  Patient   \n",
       "\n",
       "                  duration average_duration  usage_ratings  \\\n",
       "0   2 to less than 5 years              3.5              5   \n",
       "1            1 to 6 months              0.3              5   \n",
       "2  5 to less than 10 years              7.5              5   \n",
       "3   2 to less than 5 years              3.5              5   \n",
       "4   2 to less than 5 years              3.5              1   \n",
       "\n",
       "   satisfaction_ratings  effectiveness_ratings  \\\n",
       "0                     4                      5   \n",
       "1                     1                      3   \n",
       "2                     5                      5   \n",
       "3                     5                      4   \n",
       "4                     1                      1   \n",
       "\n",
       "                                             comment  \n",
       "0  Avandia caused me to gain 18 lbs. in 4 mos. Wa...  \n",
       "1  Avandia caused me to gain 18 lbs. in 4 mos. Wa...  \n",
       "2  NO PROBLEMS FOR 8 YRS., NOW HAVE IRREGULAR PUL...  \n",
       "3  NO PROBLEMS FOR 8 YRS., NOW HAVE IRREGULAR PUL...  \n",
       "4  This has been the only medication in combinati...  "
      ]
     },
     "execution_count": 242,
     "metadata": {},
     "output_type": "execute_result"
    }
   ],
   "source": [
    "data1.head()"
   ]
  },
  {
   "cell_type": "code",
   "execution_count": null,
   "metadata": {},
   "outputs": [],
   "source": []
  },
  {
   "cell_type": "code",
   "execution_count": 281,
   "metadata": {},
   "outputs": [
    {
     "name": "stderr",
     "output_type": "stream",
     "text": [
      "/Users/oluwolealowolodu/anaconda3/lib/python3.5/site-packages/scipy/stats/stats.py:1713: FutureWarning: Using a non-tuple sequence for multidimensional indexing is deprecated; use `arr[tuple(seq)]` instead of `arr[seq]`. In the future this will be interpreted as an array index, `arr[np.array(seq)]`, which will result either in an error or a different result.\n",
      "  return np.add.reduce(sorted[indexer] * weights, axis=axis) / sumval\n"
     ]
    },
    {
     "data": {
      "text/plain": [
       "<matplotlib.axes._subplots.AxesSubplot at 0x1a206c50b8>"
      ]
     },
     "execution_count": 281,
     "metadata": {},
     "output_type": "execute_result"
    },
    {
     "data": {
      "image/png": "[encoded data removed]",
      "text/plain": [
       "<Figure size 432x288 with 1 Axes>"
      ]
     },
     "metadata": {},
     "output_type": "display_data"
    }
   ],
   "source": [
    "\n",
    "sns.barplot(x=\"average_duration\", y=\"effectiveness_ratings\",data=data1, orient='v')\n",
    "\n"
   ]
  },
  {
   "cell_type": "code",
   "execution_count": 246,
   "metadata": {},
   "outputs": [
    {
     "name": "stderr",
     "output_type": "stream",
     "text": [
      "/Users/oluwolealowolodu/anaconda3/lib/python3.5/site-packages/scipy/stats/stats.py:1713: FutureWarning: Using a non-tuple sequence for multidimensional indexing is deprecated; use `arr[tuple(seq)]` instead of `arr[seq]`. In the future this will be interpreted as an array index, `arr[np.array(seq)]`, which will result either in an error or a different result.\n",
      "  return np.add.reduce(sorted[indexer] * weights, axis=axis) / sumval\n"
     ]
    },
    {
     "data": {
      "image/png": "[encoded data removed]",
      "text/plain": [
       "<Figure size 360x360 with 1 Axes>"
      ]
     },
     "metadata": {},
     "output_type": "display_data"
    }
   ],
   "source": [
    "sns.catplot(x=\"age_range\", y=\"effectiveness_ratings\", kind='bar', data=data1.sort_values('age_range'));\n"
   ]
  },
  {
   "cell_type": "code",
   "execution_count": 268,
   "metadata": {},
   "outputs": [
    {
     "name": "stderr",
     "output_type": "stream",
     "text": [
      "/Users/oluwolealowolodu/anaconda3/lib/python3.5/site-packages/scipy/stats/stats.py:1713: FutureWarning: Using a non-tuple sequence for multidimensional indexing is deprecated; use `arr[tuple(seq)]` instead of `arr[seq]`. In the future this will be interpreted as an array index, `arr[np.array(seq)]`, which will result either in an error or a different result.\n",
      "  return np.add.reduce(sorted[indexer] * weights, axis=axis) / sumval\n"
     ]
    },
    {
     "data": {
      "text/plain": [
       "<matplotlib.axes._subplots.AxesSubplot at 0x1a1fe6ba90>"
      ]
     },
     "execution_count": 268,
     "metadata": {},
     "output_type": "execute_result"
    },
    {
     "data": {
      "image/png": "[encoded data removed]",
      "text/plain": [
       "<Figure size 432x288 with 1 Axes>"
      ]
     },
     "metadata": {},
     "output_type": "display_data"
    }
   ],
   "source": [
    "sns.barplot(x=\"gender\", y=\"effectiveness_ratings\",data=data1, orient='v')\n"
   ]
  },
  {
   "cell_type": "code",
   "execution_count": 287,
   "metadata": {},
   "outputs": [
    {
     "name": "stderr",
     "output_type": "stream",
     "text": [
      "/Users/oluwolealowolodu/anaconda3/lib/python3.5/site-packages/scipy/stats/stats.py:1713: FutureWarning: Using a non-tuple sequence for multidimensional indexing is deprecated; use `arr[tuple(seq)]` instead of `arr[seq]`. In the future this will be interpreted as an array index, `arr[np.array(seq)]`, which will result either in an error or a different result.\n",
      "  return np.add.reduce(sorted[indexer] * weights, axis=axis) / sumval\n"
     ]
    },
    {
     "data": {
      "image/png": "[encoded data removed]",
      "text/plain": [
       "<Figure size 360x360 with 1 Axes>"
      ]
     },
     "metadata": {},
     "output_type": "display_data"
    }
   ],
   "source": [
    "#data1.plot.scatter('ave_duration', 'effectiveness_ratings')\n",
    "#type(data1['ave_duration'])\n",
    "sns.catplot(x=\"average_duration\", y=\"effectiveness_ratings\", hue=\"average_duration\", kind=\"point\", data=data1);\n"
   ]
  }
 ],
 "metadata": {
  "kernelspec": {
   "display_name": "Python 2",
   "language": "python",
   "name": "python2"
  },
  "language_info": {
   "codemirror_mode": {
    "name": "ipython",
    "version": 2
   },
   "file_extension": ".py",
   "mimetype": "text/x-python",
   "name": "python",
   "nbconvert_exporter": "python",
   "pygments_lexer": "ipython2",
   "version": "2.7.15"
  }
 },
 "nbformat": 4,
 "nbformat_minor": 2
}
