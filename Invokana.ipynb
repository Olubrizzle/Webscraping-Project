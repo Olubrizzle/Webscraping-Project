{
 "cells": [
  {
   "cell_type": "code",
   "execution_count": 25,
   "metadata": {},
   "outputs": [],
   "source": [
    "import numpy as np\n",
    "import pandas as pd\n",
    "from matplotlib import pyplot as plt\n",
    "import seaborn as sns\n",
    "import re"
   ]
  },
  {
   "cell_type": "code",
   "execution_count": 26,
   "metadata": {},
   "outputs": [],
   "source": [
    "data3 = pd.read_csv('Invokana.csv')"
   ]
  },
  {
   "cell_type": "code",
   "execution_count": 27,
   "metadata": {},
   "outputs": [],
   "source": [
    "data3['condition'] = data3['condition'].apply(lambda x: str(x)[-24:])\n",
    "\n",
    "def dur(text):\n",
    "    new_duration = ''.join(re.findall('[0-9]+',text))\n",
    "    if new_duration == '1':\n",
    "        return .1\n",
    "    elif new_duration == '16':\n",
    "        return .3\n",
    "    elif new_duration == '61':\n",
    "        return 0.75\n",
    "    elif new_duration == '12':\n",
    "        return 1.5\n",
    "    elif new_duration == '25':\n",
    "        return 3.5\n",
    "    elif new_duration == '510':\n",
    "        return 7.5\n",
    "    else:\n",
    "        return ''\n",
    "    \n",
    "data3['average_duration'] = [dur(x) for x in data3['duration']]"
   ]
  },
  {
   "cell_type": "code",
   "execution_count": 28,
   "metadata": {},
   "outputs": [
    {
     "data": {
      "text/html": [
       "<div>\n",
       "<style scoped>\n",
       "    .dataframe tbody tr th:only-of-type {\n",
       "        vertical-align: middle;\n",
       "    }\n",
       "\n",
       "    .dataframe tbody tr th {\n",
       "        vertical-align: top;\n",
       "    }\n",
       "\n",
       "    .dataframe thead th {\n",
       "        text-align: right;\n",
       "    }\n",
       "</style>\n",
       "<table border=\"1\" class=\"dataframe\">\n",
       "  <thead>\n",
       "    <tr style=\"text-align: right;\">\n",
       "      <th></th>\n",
       "      <th>date</th>\n",
       "      <th>satisfaction_ratings</th>\n",
       "      <th>age_range</th>\n",
       "      <th>usage_ratings</th>\n",
       "      <th>condition</th>\n",
       "      <th>gender</th>\n",
       "      <th>consumer</th>\n",
       "      <th>effectiveness_ratings</th>\n",
       "      <th>comment</th>\n",
       "      <th>duration</th>\n",
       "      <th>average_duration</th>\n",
       "    </tr>\n",
       "  </thead>\n",
       "  <tbody>\n",
       "    <tr>\n",
       "      <th>0</th>\n",
       "      <td>6/29/2018</td>\n",
       "      <td>3</td>\n",
       "      <td>45-54</td>\n",
       "      <td>5</td>\n",
       "      <td>Type 2 Diabetes Mellitus</td>\n",
       "      <td>NaN</td>\n",
       "      <td>Patient</td>\n",
       "      <td>5</td>\n",
       "      <td>I started taking 200 mg of Invokana a day and ...</td>\n",
       "      <td>2 to less than 5 years</td>\n",
       "      <td>3.5</td>\n",
       "    </tr>\n",
       "    <tr>\n",
       "      <th>1</th>\n",
       "      <td>2/11/2018</td>\n",
       "      <td>1</td>\n",
       "      <td>45-54</td>\n",
       "      <td>5</td>\n",
       "      <td>Type 2 Diabetes Mellitus</td>\n",
       "      <td>Female</td>\n",
       "      <td>Patient</td>\n",
       "      <td>1</td>\n",
       "      <td>I started taking 200 mg of Invokana a day and ...</td>\n",
       "      <td>1 to less than 2 years</td>\n",
       "      <td>1.5</td>\n",
       "    </tr>\n",
       "    <tr>\n",
       "      <th>2</th>\n",
       "      <td>11/21/2017</td>\n",
       "      <td>4</td>\n",
       "      <td>55-64</td>\n",
       "      <td>4</td>\n",
       "      <td>Type 2 Diabetes Mellitus</td>\n",
       "      <td>NaN</td>\n",
       "      <td>Patient</td>\n",
       "      <td>4</td>\n",
       "      <td>Acute pancreatitis episode which is rare but h...</td>\n",
       "      <td>6 months to less than 1 year</td>\n",
       "      <td>0.75</td>\n",
       "    </tr>\n",
       "    <tr>\n",
       "      <th>3</th>\n",
       "      <td>10/25/2017</td>\n",
       "      <td>5</td>\n",
       "      <td>55-64</td>\n",
       "      <td>5</td>\n",
       "      <td>Type 2 Diabetes Mellitus</td>\n",
       "      <td>Female</td>\n",
       "      <td>Patient</td>\n",
       "      <td>5</td>\n",
       "      <td>Acute pancreatitis episode which is rare but h...</td>\n",
       "      <td>1 to 6 months</td>\n",
       "      <td>0.3</td>\n",
       "    </tr>\n",
       "    <tr>\n",
       "      <th>4</th>\n",
       "      <td>6/28/2017</td>\n",
       "      <td>5</td>\n",
       "      <td>65-74</td>\n",
       "      <td>5</td>\n",
       "      <td>Type 2 Diabetes Mellitus</td>\n",
       "      <td>Female</td>\n",
       "      <td>Patient</td>\n",
       "      <td>5</td>\n",
       "      <td>I started taking 100mg w/Lantus per doctor. No...</td>\n",
       "      <td>1 to 6 months</td>\n",
       "      <td>0.3</td>\n",
       "    </tr>\n",
       "  </tbody>\n",
       "</table>\n",
       "</div>"
      ],
      "text/plain": [
       "         date  satisfaction_ratings age_range  usage_ratings  \\\n",
       "0   6/29/2018                     3     45-54              5   \n",
       "1   2/11/2018                     1     45-54              5   \n",
       "2  11/21/2017                     4     55-64              4   \n",
       "3  10/25/2017                     5     55-64              5   \n",
       "4   6/28/2017                     5     65-74              5   \n",
       "\n",
       "                  condition  gender consumer  effectiveness_ratings  \\\n",
       "0  Type 2 Diabetes Mellitus     NaN  Patient                      5   \n",
       "1  Type 2 Diabetes Mellitus  Female  Patient                      1   \n",
       "2  Type 2 Diabetes Mellitus     NaN  Patient                      4   \n",
       "3  Type 2 Diabetes Mellitus  Female  Patient                      5   \n",
       "4  Type 2 Diabetes Mellitus  Female  Patient                      5   \n",
       "\n",
       "                                             comment  \\\n",
       "0  I started taking 200 mg of Invokana a day and ...   \n",
       "1  I started taking 200 mg of Invokana a day and ...   \n",
       "2  Acute pancreatitis episode which is rare but h...   \n",
       "3  Acute pancreatitis episode which is rare but h...   \n",
       "4  I started taking 100mg w/Lantus per doctor. No...   \n",
       "\n",
       "                       duration average_duration  \n",
       "0        2 to less than 5 years              3.5  \n",
       "1        1 to less than 2 years              1.5  \n",
       "2  6 months to less than 1 year             0.75  \n",
       "3                 1 to 6 months              0.3  \n",
       "4                 1 to 6 months              0.3  "
      ]
     },
     "execution_count": 28,
     "metadata": {},
     "output_type": "execute_result"
    }
   ],
   "source": [
    "data3.head()"
   ]
  },
  {
   "cell_type": "code",
   "execution_count": 23,
   "metadata": {},
   "outputs": [
    {
     "data": {
      "text/plain": [
       "<seaborn.axisgrid.FacetGrid at 0x1a1f8bfc18>"
      ]
     },
     "execution_count": 23,
     "metadata": {},
     "output_type": "execute_result"
    },
    {
     "data": {
      "image/png": "[encoded data removed]",
      "text/plain": [
       "<Figure size 360x360 with 1 Axes>"
      ]
     },
     "metadata": {
      "needs_background": "light"
     },
     "output_type": "display_data"
    }
   ],
   "source": [
    "sns.catplot(x=\"satisfaction_ratings\", kind=\"count\", palette=\"ch:.25\", data=data3)"
   ]
  },
  {
   "cell_type": "code",
   "execution_count": 24,
   "metadata": {},
   "outputs": [
    {
     "data": {
      "text/plain": [
       "<seaborn.axisgrid.FacetGrid at 0x1a1f633940>"
      ]
     },
     "execution_count": 24,
     "metadata": {},
     "output_type": "execute_result"
    },
    {
     "data": {
      "image/png": "[encoded data removed]",
      "text/plain": [
       "<Figure size 360x360 with 1 Axes>"
      ]
     },
     "metadata": {
      "needs_background": "light"
     },
     "output_type": "display_data"
    }
   ],
   "source": [
    "sns.catplot(x=\"effectiveness_ratings\", kind=\"count\", palette=\"ch:.25\", data=data3)"
   ]
  },
  {
   "cell_type": "code",
   "execution_count": 12,
   "metadata": {},
   "outputs": [
    {
     "data": {
      "text/html": [
       "<div>\n",
       "<style scoped>\n",
       "    .dataframe tbody tr th:only-of-type {\n",
       "        vertical-align: middle;\n",
       "    }\n",
       "\n",
       "    .dataframe tbody tr th {\n",
       "        vertical-align: top;\n",
       "    }\n",
       "\n",
       "    .dataframe thead th {\n",
       "        text-align: right;\n",
       "    }\n",
       "</style>\n",
       "<table border=\"1\" class=\"dataframe\">\n",
       "  <thead>\n",
       "    <tr style=\"text-align: right;\">\n",
       "      <th></th>\n",
       "      <th>date</th>\n",
       "      <th>satisfaction_ratings</th>\n",
       "      <th>age_range</th>\n",
       "      <th>usage_ratings</th>\n",
       "      <th>condition</th>\n",
       "      <th>gender</th>\n",
       "      <th>consumer</th>\n",
       "      <th>effectiveness_ratings</th>\n",
       "      <th>comment</th>\n",
       "      <th>duration</th>\n",
       "      <th>adjusted_duration</th>\n",
       "    </tr>\n",
       "  </thead>\n",
       "  <tbody>\n",
       "    <tr>\n",
       "      <th>0</th>\n",
       "      <td>2/9/2015</td>\n",
       "      <td>5.0</td>\n",
       "      <td>55-64</td>\n",
       "      <td>5.0</td>\n",
       "      <td>Type 2 Diabetes Mellitus</td>\n",
       "      <td>Female</td>\n",
       "      <td>Patient</td>\n",
       "      <td>5.0</td>\n",
       "      <td>A miracle for me. I have been taking 100 mg fo...</td>\n",
       "      <td>1 to 6 months</td>\n",
       "      <td>0.3</td>\n",
       "    </tr>\n",
       "    <tr>\n",
       "      <th>1</th>\n",
       "      <td>NaN</td>\n",
       "      <td>NaN</td>\n",
       "      <td>NaN</td>\n",
       "      <td>NaN</td>\n",
       "      <td>NaN</td>\n",
       "      <td>NaN</td>\n",
       "      <td>NaN</td>\n",
       "      <td>NaN</td>\n",
       "      <td>A1C went down 1.1 points after 6 months on 100...</td>\n",
       "      <td>NaN</td>\n",
       "      <td>NaN</td>\n",
       "    </tr>\n",
       "    <tr>\n",
       "      <th>2</th>\n",
       "      <td>NaN</td>\n",
       "      <td>NaN</td>\n",
       "      <td>NaN</td>\n",
       "      <td>NaN</td>\n",
       "      <td>NaN</td>\n",
       "      <td>NaN</td>\n",
       "      <td>NaN</td>\n",
       "      <td>NaN</td>\n",
       "      <td>Acute pancreatitis episode which is rare but h...</td>\n",
       "      <td>NaN</td>\n",
       "      <td>NaN</td>\n",
       "    </tr>\n",
       "    <tr>\n",
       "      <th>3</th>\n",
       "      <td>NaN</td>\n",
       "      <td>NaN</td>\n",
       "      <td>NaN</td>\n",
       "      <td>NaN</td>\n",
       "      <td>NaN</td>\n",
       "      <td>NaN</td>\n",
       "      <td>NaN</td>\n",
       "      <td>NaN</td>\n",
       "      <td>After several years of trying to get BS Spikes...</td>\n",
       "      <td>NaN</td>\n",
       "      <td>NaN</td>\n",
       "    </tr>\n",
       "    <tr>\n",
       "      <th>4</th>\n",
       "      <td>NaN</td>\n",
       "      <td>NaN</td>\n",
       "      <td>NaN</td>\n",
       "      <td>NaN</td>\n",
       "      <td>NaN</td>\n",
       "      <td>NaN</td>\n",
       "      <td>NaN</td>\n",
       "      <td>NaN</td>\n",
       "      <td>After the second day, I broke out in a reactio...</td>\n",
       "      <td>NaN</td>\n",
       "      <td>NaN</td>\n",
       "    </tr>\n",
       "  </tbody>\n",
       "</table>\n",
       "</div>"
      ],
      "text/plain": [
       "       date  satisfaction_ratings age_range  usage_ratings  \\\n",
       "0  2/9/2015                   5.0     55-64            5.0   \n",
       "1       NaN                   NaN       NaN            NaN   \n",
       "2       NaN                   NaN       NaN            NaN   \n",
       "3       NaN                   NaN       NaN            NaN   \n",
       "4       NaN                   NaN       NaN            NaN   \n",
       "\n",
       "                  condition  gender consumer  effectiveness_ratings  \\\n",
       "0  Type 2 Diabetes Mellitus  Female  Patient                    5.0   \n",
       "1                       NaN     NaN      NaN                    NaN   \n",
       "2                       NaN     NaN      NaN                    NaN   \n",
       "3                       NaN     NaN      NaN                    NaN   \n",
       "4                       NaN     NaN      NaN                    NaN   \n",
       "\n",
       "                                             comment       duration  \\\n",
       "0  A miracle for me. I have been taking 100 mg fo...  1 to 6 months   \n",
       "1  A1C went down 1.1 points after 6 months on 100...            NaN   \n",
       "2  Acute pancreatitis episode which is rare but h...            NaN   \n",
       "3  After several years of trying to get BS Spikes...            NaN   \n",
       "4  After the second day, I broke out in a reactio...            NaN   \n",
       "\n",
       "  adjusted_duration  \n",
       "0               0.3  \n",
       "1               NaN  \n",
       "2               NaN  \n",
       "3               NaN  \n",
       "4               NaN  "
      ]
     },
     "execution_count": 12,
     "metadata": {},
     "output_type": "execute_result"
    }
   ],
   "source": [
    "data3.mode().head()"
   ]
  },
  {
   "cell_type": "code",
   "execution_count": 29,
   "metadata": {},
   "outputs": [
    {
     "name": "stderr",
     "output_type": "stream",
     "text": [
      "/Users/oluwolealowolodu/anaconda3/lib/python3.5/site-packages/ipykernel_launcher.py:1: FutureWarning: specifying 'categories' or 'ordered' in .astype() is deprecated; pass a CategoricalDtype instead\n",
      "  \"\"\"Entry point for launching an IPython kernel.\n"
     ]
    },
    {
     "data": {
      "text/plain": [
       "0      45-54\n",
       "1      45-54\n",
       "2      55-64\n",
       "3      55-64\n",
       "4      65-74\n",
       "5      45-54\n",
       "6      35-44\n",
       "7      45-54\n",
       "8      55-64\n",
       "9      55-64\n",
       "10     55-64\n",
       "11     65-74\n",
       "12     45-54\n",
       "13     55-64\n",
       "14     65-74\n",
       "15     55-64\n",
       "16     55-64\n",
       "17     65-74\n",
       "18     25-34\n",
       "19     55-64\n",
       "20     55-64\n",
       "21     55-64\n",
       "22     45-54\n",
       "23     45-54\n",
       "24     55-64\n",
       "25     45-54\n",
       "26     55-64\n",
       "27     55-64\n",
       "28     65-74\n",
       "29     35-44\n",
       "       ...  \n",
       "163    45-54\n",
       "164    55-64\n",
       "165    25-34\n",
       "166    55-64\n",
       "167    45-54\n",
       "168    55-64\n",
       "169    45-54\n",
       "170    65-74\n",
       "171    45-54\n",
       "172    55-64\n",
       "173      NaN\n",
       "174    45-54\n",
       "175    55-64\n",
       "176    55-64\n",
       "177    55-64\n",
       "178    55-64\n",
       "179    45-54\n",
       "180    65-74\n",
       "181    65-74\n",
       "182    65-74\n",
       "183    55-64\n",
       "184    55-64\n",
       "185    55-64\n",
       "186    65-74\n",
       "187    65-74\n",
       "188    55-64\n",
       "189    45-54\n",
       "190    55-64\n",
       "191    45-54\n",
       "192    35-44\n",
       "Name: age_range, Length: 193, dtype: category\n",
       "Categories (8, object): [5-14 < 15-24 < 25-34 < 35-44 < 45-54 < 55-64 < 65-74 < 75-84]"
      ]
     },
     "execution_count": 29,
     "metadata": {},
     "output_type": "execute_result"
    }
   ],
   "source": [
    "data3['age_range'].astype('category', categories=['5-14','15-24','25-34','35-44','45-54','55-64','65-74','75-84'], ordered=True)\n"
   ]
  },
  {
   "cell_type": "code",
   "execution_count": 30,
   "metadata": {},
   "outputs": [
    {
     "name": "stderr",
     "output_type": "stream",
     "text": [
      "/Users/oluwolealowolodu/anaconda3/lib/python3.5/site-packages/ipykernel_launcher.py:1: FutureWarning: specifying 'categories' or 'ordered' in .astype() is deprecated; pass a CategoricalDtype instead\n",
      "  \"\"\"Entry point for launching an IPython kernel.\n"
     ]
    }
   ],
   "source": [
    "data3['average_duration']=data3['average_duration'].astype('category', categories=[0.1,0.3,0.75,1.5,3.5,7.5], ordered=True)\n"
   ]
  },
  {
   "cell_type": "code",
   "execution_count": 31,
   "metadata": {},
   "outputs": [
    {
     "name": "stderr",
     "output_type": "stream",
     "text": [
      "/Users/oluwolealowolodu/anaconda3/lib/python3.5/site-packages/scipy/stats/stats.py:1713: FutureWarning: Using a non-tuple sequence for multidimensional indexing is deprecated; use `arr[tuple(seq)]` instead of `arr[seq]`. In the future this will be interpreted as an array index, `arr[np.array(seq)]`, which will result either in an error or a different result.\n",
      "  return np.add.reduce(sorted[indexer] * weights, axis=axis) / sumval\n"
     ]
    },
    {
     "data": {
      "text/plain": [
       "<matplotlib.axes._subplots.AxesSubplot at 0x1a1f9cd7b8>"
      ]
     },
     "execution_count": 31,
     "metadata": {},
     "output_type": "execute_result"
    },
    {
     "data": {
      "image/png": "[encoded data removed]",
      "text/plain": [
       "<Figure size 432x288 with 1 Axes>"
      ]
     },
     "metadata": {
      "needs_background": "light"
     },
     "output_type": "display_data"
    }
   ],
   "source": [
    "sns.barplot(x=\"average_duration\", y=\"effectiveness_ratings\",data=data3, orient='v')\n"
   ]
  },
  {
   "cell_type": "code",
   "execution_count": 33,
   "metadata": {},
   "outputs": [
    {
     "name": "stderr",
     "output_type": "stream",
     "text": [
      "/Users/oluwolealowolodu/anaconda3/lib/python3.5/site-packages/scipy/stats/stats.py:1713: FutureWarning: Using a non-tuple sequence for multidimensional indexing is deprecated; use `arr[tuple(seq)]` instead of `arr[seq]`. In the future this will be interpreted as an array index, `arr[np.array(seq)]`, which will result either in an error or a different result.\n",
      "  return np.add.reduce(sorted[indexer] * weights, axis=axis) / sumval\n"
     ]
    },
    {
     "data": {
      "text/plain": [
       "<seaborn.axisgrid.FacetGrid at 0x10f124710>"
      ]
     },
     "execution_count": 33,
     "metadata": {},
     "output_type": "execute_result"
    },
    {
     "data": {
      "image/png": "[encoded data removed]",
      "text/plain": [
       "<Figure size 360x360 with 1 Axes>"
      ]
     },
     "metadata": {
      "needs_background": "light"
     },
     "output_type": "display_data"
    }
   ],
   "source": [
    "sns.catplot(x=\"age_range\", y=\"effectiveness_ratings\", kind='bar', data=data3.sort_values('age_range'))\n",
    "sns.catplot(x=\"age_range\", y=\"effectiveness_ratings\", kind='bar', data=data1.sort_values('age_range'));\n"
   ]
  },
  {
   "cell_type": "code",
   "execution_count": null,
   "metadata": {},
   "outputs": [],
   "source": []
  }
 ],
 "metadata": {
  "kernelspec": {
   "display_name": "Python 3",
   "language": "python",
   "name": "python3"
  },
  "language_info": {
   "codemirror_mode": {
    "name": "ipython",
    "version": 3
   },
   "file_extension": ".py",
   "mimetype": "text/x-python",
   "name": "python",
   "nbconvert_exporter": "python",
   "pygments_lexer": "ipython3",
   "version": "3.5.6"
  }
 },
 "nbformat": 4,
 "nbformat_minor": 2
}
