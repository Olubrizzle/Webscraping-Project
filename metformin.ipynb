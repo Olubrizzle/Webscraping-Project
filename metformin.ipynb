{
 "cells": [
  {
   "cell_type": "code",
   "execution_count": 48,
   "metadata": {},
   "outputs": [],
   "source": [
    "import numpy as np\n",
    "import pandas as pd\n",
    "from matplotlib import pyplot as plt\n",
    "import seaborn as sns\n",
    "import re"
   ]
  },
  {
   "cell_type": "code",
   "execution_count": 49,
   "metadata": {},
   "outputs": [
    {
     "data": {
      "text/html": [
       "<div>\n",
       "<style scoped>\n",
       "    .dataframe tbody tr th:only-of-type {\n",
       "        vertical-align: middle;\n",
       "    }\n",
       "\n",
       "    .dataframe tbody tr th {\n",
       "        vertical-align: top;\n",
       "    }\n",
       "\n",
       "    .dataframe thead th {\n",
       "        text-align: right;\n",
       "    }\n",
       "</style>\n",
       "<table border=\"1\" class=\"dataframe\">\n",
       "  <thead>\n",
       "    <tr style=\"text-align: right;\">\n",
       "      <th></th>\n",
       "      <th>date</th>\n",
       "      <th>effectiveness_ratings</th>\n",
       "      <th>usage_ratings</th>\n",
       "      <th>duration</th>\n",
       "      <th>satisfaction_ratings</th>\n",
       "      <th>comment</th>\n",
       "      <th>gender</th>\n",
       "      <th>age_range</th>\n",
       "      <th>condition</th>\n",
       "      <th>consumer</th>\n",
       "    </tr>\n",
       "  </thead>\n",
       "  <tbody>\n",
       "    <tr>\n",
       "      <th>0</th>\n",
       "      <td>8/2/18</td>\n",
       "      <td>3</td>\n",
       "      <td>4</td>\n",
       "      <td>less than 1 month</td>\n",
       "      <td>1</td>\n",
       "      <td>I took 1 dose, and my entire GI system suffere...</td>\n",
       "      <td>Female</td>\n",
       "      <td>25-34</td>\n",
       "      <td>\\r\\n\\t\\t\\t\\t\\tCondition: Type 2 Diabetes Mellitus</td>\n",
       "      <td>Patient</td>\n",
       "    </tr>\n",
       "    <tr>\n",
       "      <th>1</th>\n",
       "      <td>6/30/18</td>\n",
       "      <td>5</td>\n",
       "      <td>5</td>\n",
       "      <td>1 to 6 months</td>\n",
       "      <td>1</td>\n",
       "      <td>I took 1 dose, and my entire GI system suffere...</td>\n",
       "      <td>NaN</td>\n",
       "      <td>55-64</td>\n",
       "      <td>\\r\\n\\t\\t\\t\\t\\tCondition: Type 2 Diabetes Mellitus</td>\n",
       "      <td>Patient</td>\n",
       "    </tr>\n",
       "    <tr>\n",
       "      <th>2</th>\n",
       "      <td>5/6/18</td>\n",
       "      <td>3</td>\n",
       "      <td>3</td>\n",
       "      <td>less than 1 month</td>\n",
       "      <td>4</td>\n",
       "      <td>I started taking this twice a day.  500 mg twi...</td>\n",
       "      <td>NaN</td>\n",
       "      <td>65-74</td>\n",
       "      <td>\\r\\n\\t\\t\\t\\t\\tCondition: Type 2 Diabetes Mellitus</td>\n",
       "      <td>Patient</td>\n",
       "    </tr>\n",
       "    <tr>\n",
       "      <th>3</th>\n",
       "      <td>3/14/18</td>\n",
       "      <td>3</td>\n",
       "      <td>3</td>\n",
       "      <td>2 to less than 5 years</td>\n",
       "      <td>2</td>\n",
       "      <td>I started taking this twice a day.  500 mg twi...</td>\n",
       "      <td>NaN</td>\n",
       "      <td>65-74</td>\n",
       "      <td>\\r\\n\\t\\t\\t\\t\\tCondition: Type 2 Diabetes Mellitus</td>\n",
       "      <td>Patient</td>\n",
       "    </tr>\n",
       "    <tr>\n",
       "      <th>4</th>\n",
       "      <td>12/25/17</td>\n",
       "      <td>5</td>\n",
       "      <td>1</td>\n",
       "      <td>1 to 6 months</td>\n",
       "      <td>1</td>\n",
       "      <td>Blood glucose ranging from 170-300 both AM and...</td>\n",
       "      <td>NaN</td>\n",
       "      <td>45-54</td>\n",
       "      <td>\\r\\n\\t\\t\\t\\t\\tCondition: Type 2 Diabetes Mellitus</td>\n",
       "      <td>Patient</td>\n",
       "    </tr>\n",
       "  </tbody>\n",
       "</table>\n",
       "</div>"
      ],
      "text/plain": [
       "       date  effectiveness_ratings  usage_ratings                duration  \\\n",
       "0    8/2/18                      3              4       less than 1 month   \n",
       "1   6/30/18                      5              5           1 to 6 months   \n",
       "2    5/6/18                      3              3       less than 1 month   \n",
       "3   3/14/18                      3              3  2 to less than 5 years   \n",
       "4  12/25/17                      5              1           1 to 6 months   \n",
       "\n",
       "   satisfaction_ratings                                            comment  \\\n",
       "0                     1  I took 1 dose, and my entire GI system suffere...   \n",
       "1                     1  I took 1 dose, and my entire GI system suffere...   \n",
       "2                     4  I started taking this twice a day.  500 mg twi...   \n",
       "3                     2  I started taking this twice a day.  500 mg twi...   \n",
       "4                     1  Blood glucose ranging from 170-300 both AM and...   \n",
       "\n",
       "   gender age_range                                          condition  \\\n",
       "0  Female     25-34  \\r\\n\\t\\t\\t\\t\\tCondition: Type 2 Diabetes Mellitus   \n",
       "1     NaN     55-64  \\r\\n\\t\\t\\t\\t\\tCondition: Type 2 Diabetes Mellitus   \n",
       "2     NaN     65-74  \\r\\n\\t\\t\\t\\t\\tCondition: Type 2 Diabetes Mellitus   \n",
       "3     NaN     65-74  \\r\\n\\t\\t\\t\\t\\tCondition: Type 2 Diabetes Mellitus   \n",
       "4     NaN     45-54  \\r\\n\\t\\t\\t\\t\\tCondition: Type 2 Diabetes Mellitus   \n",
       "\n",
       "  consumer  \n",
       "0  Patient  \n",
       "1  Patient  \n",
       "2  Patient  \n",
       "3  Patient  \n",
       "4  Patient  "
      ]
     },
     "execution_count": 49,
     "metadata": {},
     "output_type": "execute_result"
    }
   ],
   "source": [
    "data2 = pd.read_csv('metformin.csv')\n",
    "data2.head()"
   ]
  },
  {
   "cell_type": "code",
   "execution_count": 50,
   "metadata": {},
   "outputs": [],
   "source": [
    "data2['condition'] = data2['condition'].apply(lambda x: str(x)[-24:])"
   ]
  },
  {
   "cell_type": "code",
   "execution_count": 56,
   "metadata": {},
   "outputs": [],
   "source": [
    "def dur(text):\n",
    "    new_duration = ''.join(re.findall('[0-9]+',text))\n",
    "    if new_duration == '1':\n",
    "        return .1\n",
    "    elif new_duration == '16':\n",
    "        return .3\n",
    "    elif new_duration == '61':\n",
    "        return 0.75\n",
    "    elif new_duration == '12':\n",
    "        return 1.5\n",
    "    elif new_duration == '25':\n",
    "        return 3.5\n",
    "    elif new_duration == '510':\n",
    "        return 7.5\n",
    "    else:\n",
    "        return ''\n",
    "data2['average_duration'] = [dur(x) for x in data2['duration']]"
   ]
  },
  {
   "cell_type": "code",
   "execution_count": 57,
   "metadata": {},
   "outputs": [
    {
     "data": {
      "text/html": [
       "<div>\n",
       "<style scoped>\n",
       "    .dataframe tbody tr th:only-of-type {\n",
       "        vertical-align: middle;\n",
       "    }\n",
       "\n",
       "    .dataframe tbody tr th {\n",
       "        vertical-align: top;\n",
       "    }\n",
       "\n",
       "    .dataframe thead th {\n",
       "        text-align: right;\n",
       "    }\n",
       "</style>\n",
       "<table border=\"1\" class=\"dataframe\">\n",
       "  <thead>\n",
       "    <tr style=\"text-align: right;\">\n",
       "      <th></th>\n",
       "      <th>date</th>\n",
       "      <th>effectiveness_ratings</th>\n",
       "      <th>usage_ratings</th>\n",
       "      <th>duration</th>\n",
       "      <th>satisfaction_ratings</th>\n",
       "      <th>comment</th>\n",
       "      <th>gender</th>\n",
       "      <th>age_range</th>\n",
       "      <th>condition</th>\n",
       "      <th>consumer</th>\n",
       "      <th>adjusted_duration</th>\n",
       "      <th>average_duration</th>\n",
       "    </tr>\n",
       "  </thead>\n",
       "  <tbody>\n",
       "    <tr>\n",
       "      <th>0</th>\n",
       "      <td>8/2/18</td>\n",
       "      <td>3</td>\n",
       "      <td>4</td>\n",
       "      <td>less than 1 month</td>\n",
       "      <td>1</td>\n",
       "      <td>I took 1 dose, and my entire GI system suffere...</td>\n",
       "      <td>Female</td>\n",
       "      <td>25-34</td>\n",
       "      <td>Type 2 Diabetes Mellitus</td>\n",
       "      <td>Patient</td>\n",
       "      <td>0.1</td>\n",
       "      <td>0.1</td>\n",
       "    </tr>\n",
       "    <tr>\n",
       "      <th>1</th>\n",
       "      <td>6/30/18</td>\n",
       "      <td>5</td>\n",
       "      <td>5</td>\n",
       "      <td>1 to 6 months</td>\n",
       "      <td>1</td>\n",
       "      <td>I took 1 dose, and my entire GI system suffere...</td>\n",
       "      <td>NaN</td>\n",
       "      <td>55-64</td>\n",
       "      <td>Type 2 Diabetes Mellitus</td>\n",
       "      <td>Patient</td>\n",
       "      <td>0.3</td>\n",
       "      <td>0.3</td>\n",
       "    </tr>\n",
       "    <tr>\n",
       "      <th>2</th>\n",
       "      <td>5/6/18</td>\n",
       "      <td>3</td>\n",
       "      <td>3</td>\n",
       "      <td>less than 1 month</td>\n",
       "      <td>4</td>\n",
       "      <td>I started taking this twice a day.  500 mg twi...</td>\n",
       "      <td>NaN</td>\n",
       "      <td>65-74</td>\n",
       "      <td>Type 2 Diabetes Mellitus</td>\n",
       "      <td>Patient</td>\n",
       "      <td>0.1</td>\n",
       "      <td>0.1</td>\n",
       "    </tr>\n",
       "    <tr>\n",
       "      <th>3</th>\n",
       "      <td>3/14/18</td>\n",
       "      <td>3</td>\n",
       "      <td>3</td>\n",
       "      <td>2 to less than 5 years</td>\n",
       "      <td>2</td>\n",
       "      <td>I started taking this twice a day.  500 mg twi...</td>\n",
       "      <td>NaN</td>\n",
       "      <td>65-74</td>\n",
       "      <td>Type 2 Diabetes Mellitus</td>\n",
       "      <td>Patient</td>\n",
       "      <td>3.5</td>\n",
       "      <td>3.5</td>\n",
       "    </tr>\n",
       "    <tr>\n",
       "      <th>4</th>\n",
       "      <td>12/25/17</td>\n",
       "      <td>5</td>\n",
       "      <td>1</td>\n",
       "      <td>1 to 6 months</td>\n",
       "      <td>1</td>\n",
       "      <td>Blood glucose ranging from 170-300 both AM and...</td>\n",
       "      <td>NaN</td>\n",
       "      <td>45-54</td>\n",
       "      <td>Type 2 Diabetes Mellitus</td>\n",
       "      <td>Patient</td>\n",
       "      <td>0.3</td>\n",
       "      <td>0.3</td>\n",
       "    </tr>\n",
       "  </tbody>\n",
       "</table>\n",
       "</div>"
      ],
      "text/plain": [
       "       date  effectiveness_ratings  usage_ratings                duration  \\\n",
       "0    8/2/18                      3              4       less than 1 month   \n",
       "1   6/30/18                      5              5           1 to 6 months   \n",
       "2    5/6/18                      3              3       less than 1 month   \n",
       "3   3/14/18                      3              3  2 to less than 5 years   \n",
       "4  12/25/17                      5              1           1 to 6 months   \n",
       "\n",
       "   satisfaction_ratings                                            comment  \\\n",
       "0                     1  I took 1 dose, and my entire GI system suffere...   \n",
       "1                     1  I took 1 dose, and my entire GI system suffere...   \n",
       "2                     4  I started taking this twice a day.  500 mg twi...   \n",
       "3                     2  I started taking this twice a day.  500 mg twi...   \n",
       "4                     1  Blood glucose ranging from 170-300 both AM and...   \n",
       "\n",
       "   gender age_range                 condition consumer adjusted_duration  \\\n",
       "0  Female     25-34  Type 2 Diabetes Mellitus  Patient               0.1   \n",
       "1     NaN     55-64  Type 2 Diabetes Mellitus  Patient               0.3   \n",
       "2     NaN     65-74  Type 2 Diabetes Mellitus  Patient               0.1   \n",
       "3     NaN     65-74  Type 2 Diabetes Mellitus  Patient               3.5   \n",
       "4     NaN     45-54  Type 2 Diabetes Mellitus  Patient               0.3   \n",
       "\n",
       "  average_duration  \n",
       "0              0.1  \n",
       "1              0.3  \n",
       "2              0.1  \n",
       "3              3.5  \n",
       "4              0.3  "
      ]
     },
     "execution_count": 57,
     "metadata": {},
     "output_type": "execute_result"
    }
   ],
   "source": [
    "data2.head()"
   ]
  },
  {
   "cell_type": "code",
   "execution_count": 54,
   "metadata": {},
   "outputs": [
    {
     "name": "stderr",
     "output_type": "stream",
     "text": [
      "/Users/oluwolealowolodu/anaconda3/lib/python3.5/site-packages/ipykernel_launcher.py:1: FutureWarning: specifying 'categories' or 'ordered' in .astype() is deprecated; pass a CategoricalDtype instead\n",
      "  \"\"\"Entry point for launching an IPython kernel.\n"
     ]
    },
    {
     "data": {
      "text/plain": [
       "0      25-34\n",
       "1      55-64\n",
       "2      65-74\n",
       "3      65-74\n",
       "4      45-54\n",
       "5      65-74\n",
       "6      55-64\n",
       "7      25-34\n",
       "8      35-44\n",
       "9      65-74\n",
       "10     45-54\n",
       "11     65-74\n",
       "12     55-64\n",
       "13     45-54\n",
       "14     45-54\n",
       "15     55-64\n",
       "16     55-64\n",
       "17     45-54\n",
       "18     55-64\n",
       "19     45-54\n",
       "20     45-54\n",
       "21     65-74\n",
       "22     55-64\n",
       "23     65-74\n",
       "24     55-64\n",
       "25     45-54\n",
       "26     45-54\n",
       "27     55-64\n",
       "28     45-54\n",
       "29     65-74\n",
       "       ...  \n",
       "851    55-64\n",
       "852    45-54\n",
       "853    55-64\n",
       "854    55-64\n",
       "855    45-54\n",
       "856    65-74\n",
       "857    65-74\n",
       "858    65-74\n",
       "859    45-54\n",
       "860    45-54\n",
       "861    55-64\n",
       "862    35-44\n",
       "863    55-64\n",
       "864    55-64\n",
       "865    65-74\n",
       "866    55-64\n",
       "867    45-54\n",
       "868    45-54\n",
       "869    55-64\n",
       "870    45-54\n",
       "871      NaN\n",
       "872      NaN\n",
       "873    45-54\n",
       "874    65-74\n",
       "875    65-74\n",
       "876    45-54\n",
       "877    55-64\n",
       "878      NaN\n",
       "879    65-74\n",
       "880    55-64\n",
       "Name: age_range, Length: 881, dtype: category\n",
       "Categories (8, object): [5-14 < 15-24 < 25-34 < 35-44 < 45-54 < 55-64 < 65-74 < 75-84]"
      ]
     },
     "execution_count": 54,
     "metadata": {},
     "output_type": "execute_result"
    }
   ],
   "source": [
    "data2['age_range'].astype('category', categories=['5-14','15-24','25-34','35-44','45-54','55-64','65-74','75-84'], ordered=True)\n"
   ]
  },
  {
   "cell_type": "code",
   "execution_count": 58,
   "metadata": {},
   "outputs": [
    {
     "name": "stderr",
     "output_type": "stream",
     "text": [
      "/Users/oluwolealowolodu/anaconda3/lib/python3.5/site-packages/ipykernel_launcher.py:1: FutureWarning: specifying 'categories' or 'ordered' in .astype() is deprecated; pass a CategoricalDtype instead\n",
      "  \"\"\"Entry point for launching an IPython kernel.\n"
     ]
    }
   ],
   "source": [
    "data2['average_duration']=data2['average_duration'].astype('category', categories=[0.1,0.3,0.75,1.5,3.5,7.5], ordered=True)\n"
   ]
  },
  {
   "cell_type": "code",
   "execution_count": 46,
   "metadata": {},
   "outputs": [
    {
     "data": {
      "image/png": "[encoded data removed]",
      "text/plain": [
       "<Figure size 360x360 with 1 Axes>"
      ]
     },
     "metadata": {
      "needs_background": "light"
     },
     "output_type": "display_data"
    }
   ],
   "source": [
    "sns.catplot(x=\"effectiveness_ratings\", kind=\"count\", palette=\"ch:.25\", data=data2);\n"
   ]
  },
  {
   "cell_type": "code",
   "execution_count": 47,
   "metadata": {},
   "outputs": [
    {
     "data": {
      "image/png": "[encoded data removed]",
      "text/plain": [
       "<Figure size 360x360 with 1 Axes>"
      ]
     },
     "metadata": {
      "needs_background": "light"
     },
     "output_type": "display_data"
    }
   ],
   "source": [
    "sns.catplot(x=\"satisfaction_ratings\", kind=\"count\", palette=\"ch:.25\", data=data2);\n"
   ]
  },
  {
   "cell_type": "code",
   "execution_count": 32,
   "metadata": {},
   "outputs": [
    {
     "data": {
      "image/png": "[encoded data removed]",
      "text/plain": [
       "<Figure size 360x360 with 1 Axes>"
      ]
     },
     "metadata": {
      "needs_background": "light"
     },
     "output_type": "display_data"
    }
   ],
   "source": [
    "\n",
    "sns.catplot(x=\"age_range\", y=\"effectiveness_ratings\", kind='boxen', data=data2.sort_values('age_range'));\n"
   ]
  },
  {
   "cell_type": "code",
   "execution_count": 59,
   "metadata": {},
   "outputs": [
    {
     "name": "stderr",
     "output_type": "stream",
     "text": [
      "/Users/oluwolealowolodu/anaconda3/lib/python3.5/site-packages/scipy/stats/stats.py:1713: FutureWarning: Using a non-tuple sequence for multidimensional indexing is deprecated; use `arr[tuple(seq)]` instead of `arr[seq]`. In the future this will be interpreted as an array index, `arr[np.array(seq)]`, which will result either in an error or a different result.\n",
      "  return np.add.reduce(sorted[indexer] * weights, axis=axis) / sumval\n"
     ]
    },
    {
     "data": {
      "image/png": "[encoded data removed]",
      "text/plain": [
       "<Figure size 360x360 with 1 Axes>"
      ]
     },
     "metadata": {
      "needs_background": "light"
     },
     "output_type": "display_data"
    }
   ],
   "source": [
    "sns.catplot(x=\"age_range\", y=\"effectiveness_ratings\", kind='bar', data=data2.sort_values('age_range'));\n"
   ]
  },
  {
   "cell_type": "code",
   "execution_count": null,
   "metadata": {},
   "outputs": [],
   "source": []
  },
  {
   "cell_type": "code",
   "execution_count": 62,
   "metadata": {},
   "outputs": [
    {
     "name": "stderr",
     "output_type": "stream",
     "text": [
      "/Users/oluwolealowolodu/anaconda3/lib/python3.5/site-packages/scipy/stats/stats.py:1713: FutureWarning: Using a non-tuple sequence for multidimensional indexing is deprecated; use `arr[tuple(seq)]` instead of `arr[seq]`. In the future this will be interpreted as an array index, `arr[np.array(seq)]`, which will result either in an error or a different result.\n",
      "  return np.add.reduce(sorted[indexer] * weights, axis=axis) / sumval\n"
     ]
    },
    {
     "data": {
      "text/plain": [
       "<matplotlib.axes._subplots.AxesSubplot at 0x1a23976f28>"
      ]
     },
     "execution_count": 62,
     "metadata": {},
     "output_type": "execute_result"
    },
    {
     "data": {
      "image/png": "[encoded data removed]",
      "text/plain": [
       "<Figure size 432x288 with 1 Axes>"
      ]
     },
     "metadata": {
      "needs_background": "light"
     },
     "output_type": "display_data"
    }
   ],
   "source": [
    "sns.barplot(x=\"average_duration\", y=\"effectiveness_ratings\",data=data2, orient='v')\n"
   ]
  },
  {
   "cell_type": "code",
   "execution_count": 22,
   "metadata": {},
   "outputs": [
    {
     "name": "stderr",
     "output_type": "stream",
     "text": [
      "/Users/oluwolealowolodu/anaconda3/lib/python3.5/site-packages/scipy/stats/stats.py:1713: FutureWarning: Using a non-tuple sequence for multidimensional indexing is deprecated; use `arr[tuple(seq)]` instead of `arr[seq]`. In the future this will be interpreted as an array index, `arr[np.array(seq)]`, which will result either in an error or a different result.\n",
      "  return np.add.reduce(sorted[indexer] * weights, axis=axis) / sumval\n"
     ]
    },
    {
     "data": {
      "text/plain": [
       "<matplotlib.axes._subplots.AxesSubplot at 0x1a240d75f8>"
      ]
     },
     "execution_count": 22,
     "metadata": {},
     "output_type": "execute_result"
    },
    {
     "data": {
      "image/png": "[encoded data removed]",
      "text/plain": [
       "<Figure size 432x288 with 1 Axes>"
      ]
     },
     "metadata": {
      "needs_background": "light"
     },
     "output_type": "display_data"
    }
   ],
   "source": [
    "sns.barplot(x=\"effectiveness_ratings\", y=\"gender\",data=data2, orient='h')\n"
   ]
  },
  {
   "cell_type": "code",
   "execution_count": 63,
   "metadata": {},
   "outputs": [
    {
     "name": "stderr",
     "output_type": "stream",
     "text": [
      "/Users/oluwolealowolodu/anaconda3/lib/python3.5/site-packages/scipy/stats/stats.py:1713: FutureWarning: Using a non-tuple sequence for multidimensional indexing is deprecated; use `arr[tuple(seq)]` instead of `arr[seq]`. In the future this will be interpreted as an array index, `arr[np.array(seq)]`, which will result either in an error or a different result.\n",
      "  return np.add.reduce(sorted[indexer] * weights, axis=axis) / sumval\n"
     ]
    },
    {
     "data": {
      "text/plain": [
       "<matplotlib.axes._subplots.AxesSubplot at 0x1a23976710>"
      ]
     },
     "execution_count": 63,
     "metadata": {},
     "output_type": "execute_result"
    },
    {
     "data": {
      "image/png": "[encoded data removed]",
      "text/plain": [
       "<Figure size 432x288 with 1 Axes>"
      ]
     },
     "metadata": {
      "needs_background": "light"
     },
     "output_type": "display_data"
    }
   ],
   "source": [
    "sns.barplot(x=\"gender\", y=\"effectiveness_ratings\",data=data2, orient='v')\n"
   ]
  },
  {
   "cell_type": "code",
   "execution_count": null,
   "metadata": {},
   "outputs": [],
   "source": []
  }
 ],
 "metadata": {
  "kernelspec": {
   "display_name": "Python 3",
   "language": "python",
   "name": "python3"
  },
  "language_info": {
   "codemirror_mode": {
    "name": "ipython",
    "version": 3
   },
   "file_extension": ".py",
   "mimetype": "text/x-python",
   "name": "python",
   "nbconvert_exporter": "python",
   "pygments_lexer": "ipython3",
   "version": "3.5.6"
  }
 },
 "nbformat": 4,
 "nbformat_minor": 2
}
